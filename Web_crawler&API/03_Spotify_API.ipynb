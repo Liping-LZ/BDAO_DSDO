{
  "nbformat": 4,
  "nbformat_minor": 0,
  "metadata": {
    "colab": {
      "provenance": [],
      "authorship_tag": "ABX9TyNxUZgI6r4EZ6ra95S1+DfH",
      "include_colab_link": true
    },
    "kernelspec": {
      "name": "python3",
      "display_name": "Python 3"
    },
    "language_info": {
      "name": "python"
    }
  },
  "cells": [
    {
      "cell_type": "markdown",
      "metadata": {
        "id": "view-in-github",
        "colab_type": "text"
      },
      "source": [
        "<a href=\"https://colab.research.google.com/github/Liping-LZ/BDAO_DSDO/blob/main/Web_crawler%26API/03_Spotify_API.ipynb\" target=\"_parent\"><img src=\"https://colab.research.google.com/assets/colab-badge.svg\" alt=\"Open In Colab\"/></a>"
      ]
    },
    {
      "cell_type": "markdown",
      "source": [
        "# Before we start\n",
        "\n",
        "Spotify is one of the most popular music streaming platform in the world. There are millions of songs available in the platform. There is Spotify for Developers which is a platform providing API for developer to make connection to Spotify.\n",
        "\n",
        "There are various APIs in the platform. In this tutorial, we will briefly discuss how we can use Spotify Web API. Spotify Web API enables the creation of applications that can interact with Spotify's streaming service, such as retrieving content metadata, getting recommendations, creating and managing playlists, or controlling playback. Here we will mainly focus on how we can retrieve data from Spotify using Web API.\n",
        "\n",
        "Before using Spotify API, please check the documentation from Spotify here: https://developer.spotify.com/documentation/web-api. A good understanding of the API and the endpoints can help you successfully retrieve data from API.\n",
        "\n",
        "In this tutorial, we are writing scripts ourselves and make connection to Spotify API directly. But in the real-world practice, we might need to do this because other people might have already build a Python wrapper (package/library) which is ready to use and it could be easier to use. For Spotify, there is one Python library called `Spotipy` (https://spotipy.readthedocs.io/en/2.22.1/) that you can use. Spotipy is a lightweight Python library for the Spotify Web API. With Spotipy you get full access to all of the music data provided by the Spotify platform.\n",
        "\n",
        "But here for learning purpose, we will perform all the steps ourselves, so you will have a good understanding of how API works, especially how REST API works."
      ],
      "metadata": {
        "id": "Xsq4iQDS7uJx"
      }
    },
    {
      "cell_type": "markdown",
      "source": [
        "## Prerequisites:\n",
        "\n",
        "Before we start, you need to have a Spotify account (free or premium). If not, you need to create a Spotify account first."
      ],
      "metadata": {
        "id": "wnvMtIXmJ7P4"
      }
    },
    {
      "cell_type": "markdown",
      "source": [
        "## Step 1: Set up your Spotify Developer account\n",
        "\n",
        "Please visit https://developer.spotify.com/ and log in with your Spotify account (which you use in the app to listen to music).\n",
        "\n",
        "Once logged in, you need to visit Spotify developer dashboard https://developer.spotify.com/dashboard (make sure you read the term of use https://developer.spotify.com/terms).\n",
        "\n",
        "On the dashboard page, you need to create an app by clicking into the `Create app` button on top right of the page. To create an app, you need to enter the following information:\n",
        "\n",
        "\n",
        "1. App Name: pick a name for your app (e.g. music analysis/artist analysis)\n",
        "\n",
        "2. App Description: just give some descriptions to your app\n",
        "3. Redirect URI: this is required field in this form. You can just put http://localhost:3000\n",
        "4. Finally, check the Developer Terms of Service checkbox and tap on the Create button.\n",
        "\n",
        "Once the app is created successfully, you should be able to see your app in the dashboard page. If you click into the app, on the top right there is a button \"Settings\". Click into this button, you will see the client ID, and Client secret. You will need to copy these information and we will use them later."
      ],
      "metadata": {
        "id": "9_E7co96KQq7"
      }
    },
    {
      "cell_type": "markdown",
      "source": [
        "## Step 2: Request access token to enable request to retrieve data\n",
        "\n",
        "As we mentioned before, for security purpose lots of API requires authentication. API authentication is the process of verifying the identity of a user who is making an API request. There are many types of API authentication, such as HTTP basic authentication, API key authentication, JWT, and OAuth.Please check [this link](https://www.postman.com/api-platform/api-authentication/) from Postman which explains very well what API authentication is and the main types of authentication.\n",
        "\n",
        "Spotify API utilise OAuth authentication (OAuth 2.0 authorization framework: https://datatracker.ietf.org/doc/html/rfc6749) , which is token-based authentication and requires authorisation.\n",
        "\n",
        "In the previous step, we have set up the app and got the client ID and client secret. These are the client creditials that we will use to request access token. Please check this link to understand the client credentials flow https://developer.spotify.com/documentation/web-api/tutorials/client-credentials-flow so you will know how we can request access token.\n",
        "\n",
        "Here are the steps to request access token:\n",
        "\n",
        "1. Send a POST request to the token endpoint URI.\n",
        "2. Add a HTTP body containing the Client ID and Client Secret, along with the grant_type parameter set to client_credentials.\n",
        "3. Save the response as Json file and then get access_token and save it\n",
        "4. Pass the access token into header and later will be used to send GET request to API server.\n",
        "\n",
        "Next, you can check the below code to see how it works.\n",
        "\n"
      ],
      "metadata": {
        "id": "LJsfpxhlHFCX"
      }
    },
    {
      "cell_type": "code",
      "execution_count": null,
      "metadata": {
        "id": "b7AOFb1jDHPL"
      },
      "outputs": [],
      "source": [
        "# Import the library we need to make requests\n",
        "import requests\n",
        "\n",
        "CLIENT_ID = \"your_client_id\" # Here you need to replace it with your own client ID\n",
        "CLIENT_SECRET = \"your_client_secret\" # Here you need to replace it with your own client secret\n",
        "\n",
        "AUTH_URL = \"https://accounts.spotify.com/api/token\" # This is the token enpoint URI where we are requesting access token\n",
        "\n",
        "auth_response = requests.post(AUTH_URL, {\n",
        "    'grant_type': 'client_credentials',\n",
        "    'client_id': CLIENT_ID,\n",
        "    'client_secret': CLIENT_SECRET,\n",
        "}) # Here we send a POST request to the tiken endpoint to get the access token\n",
        "\n",
        "#Convert response to JSON\n",
        "auth_response_data = auth_response.json()\n",
        "\n",
        "#Save the access token\n",
        "access_token = auth_response_data['access_token']\n",
        "\n",
        "#Need to pass access token into header to send properly formed GET request to API server\n",
        "headers = {\n",
        "    'Authorization': 'Bearer {token}'.format(token=access_token)\n",
        "}"
      ]
    },
    {
      "cell_type": "markdown",
      "source": [
        "## Step 3: Start making GET request\n",
        "\n",
        "Now that we retrive access token, we are able to send request to the API server to get the data we want. Here we will use `GET` request in order to retrieve data.\n",
        "\n",
        "Before making requests, please check the [documentation](https://developer.spotify.com/documentation/web-api) to understdand what data are available and also the endpoints to request data.\n",
        "\n",
        "Next we will give you an example. We will use the [Get Artist](https://developer.spotify.com/documentation/web-api/reference/get-an-artist) endpoint to request information about an artist. According to the API Reference, the endpoint needs the Spotify ID of the artist. But how to check the Spotify ID of the artist? You can just visit https://open.spotify.com/ and search for the artist you would like get information. Click on the three dots icon from the artist profile. Click three dot icon and select Share > Copy link to artist. The Spotify ID is the value that comes right after the open.spotify.com/artist URI. In this example, I am checking Taylor Swift and the link I got is https://open.spotify.com/artist/06HL4z0CvFAxyc27GXpf02, so \"06HL4z0CvFAxyc27GXpf02\" is the artist Spotify ID. We will add this ID to the endpoint and we will be able to get the artist information."
      ],
      "metadata": {
        "id": "SNf1FYbvP7RO"
      }
    },
    {
      "cell_type": "code",
      "source": [
        "BASE_URL = 'https://api.spotify.com/v1/' # This is the base endpoint of Spotify API. All endpoints starts with this URL\n",
        "r = requests.get(BASE_URL + 'artists/06HL4z0CvFAxyc27GXpf02', headers=headers) # Here we combine the base URL and the artist endpoint 'artist/{artist_id}', the header contains access token\n",
        "data = r.json() # Return the response and save as json file"
      ],
      "metadata": {
        "id": "XJETHo6QKdr7"
      },
      "execution_count": 2,
      "outputs": []
    },
    {
      "cell_type": "code",
      "source": [
        "data"
      ],
      "metadata": {
        "colab": {
          "base_uri": "https://localhost:8080/"
        },
        "id": "xiNYXl5xUQI1",
        "outputId": "11668c4c-cb97-4104-e5c7-2143aa547113"
      },
      "execution_count": 3,
      "outputs": [
        {
          "output_type": "execute_result",
          "data": {
            "text/plain": [
              "{'external_urls': {'spotify': 'https://open.spotify.com/artist/06HL4z0CvFAxyc27GXpf02'},\n",
              " 'followers': {'href': None, 'total': 108004749},\n",
              " 'genres': ['pop'],\n",
              " 'href': 'https://api.spotify.com/v1/artists/06HL4z0CvFAxyc27GXpf02',\n",
              " 'id': '06HL4z0CvFAxyc27GXpf02',\n",
              " 'images': [{'height': 640,\n",
              "   'url': 'https://i.scdn.co/image/ab6761610000e5ebe672b5f553298dcdccb0e676',\n",
              "   'width': 640},\n",
              "  {'height': 320,\n",
              "   'url': 'https://i.scdn.co/image/ab67616100005174e672b5f553298dcdccb0e676',\n",
              "   'width': 320},\n",
              "  {'height': 160,\n",
              "   'url': 'https://i.scdn.co/image/ab6761610000f178e672b5f553298dcdccb0e676',\n",
              "   'width': 160}],\n",
              " 'name': 'Taylor Swift',\n",
              " 'popularity': 100,\n",
              " 'type': 'artist',\n",
              " 'uri': 'spotify:artist:06HL4z0CvFAxyc27GXpf02'}"
            ]
          },
          "metadata": {},
          "execution_count": 3
        }
      ]
    },
    {
      "cell_type": "markdown",
      "source": [
        "## Step 4: Extract data we want\n",
        "\n",
        "By calling \"data\" vraible you should be able to see the results you got. The json format looks similar to dictionary in python, and you can use the same way to extract specific data you want. In this case, you get the result like this:\n",
        "\n",
        "\n",
        "```\n",
        "{'external_urls': {'spotify': 'https://open.spotify.com/artist/06HL4z0CvFAxyc27GXpf02’},\n",
        "'followers': {'href': None, 'total': 107849786},\n",
        "'genres': ['pop'], 'href': 'https://api.spotify.com/v1/artists/06HL4z0CvFAxyc27GXpf02', 'id': '06HL4z0CvFAxyc27GXpf02’,\n",
        "'images': [{'height': 640, 'url': 'https://i.scdn.co/image/ab6761610000e5ebe672b5f553298dcdccb0e676', 'width': 640}, {'height': 320, 'url': 'https://i.scdn.co/image/ab67616100005174e672b5f553298dcdccb0e676', 'width': 320}, {'height': 160, 'url': 'https://i.scdn.co/image/ab6761610000f178e672b5f553298dcdccb0e676', 'width': 160}],\n",
        "'name': 'Taylor Swift’,\n",
        "'popularity': 100,\n",
        "'type': 'artist’,\n",
        "'uri': 'spotify:artist:06HL4z0CvFAxyc27GXpf02'}\n",
        "```\n",
        "\n",
        "For example, we just need the followers information, name, popularity, genres and uri, then we can extract accordingly.\n",
        "\n",
        "\n",
        "\n",
        "\n"
      ],
      "metadata": {
        "id": "1JRanj40S3QW"
      }
    },
    {
      "cell_type": "code",
      "source": [
        "name = data['name']\n",
        "genre = data['genres'][0]\n",
        "follower_count = data['followers']['total']\n",
        "popularity = data['popularity']\n",
        "uri = data['uri']\n",
        "\n",
        "print(f'The artist name is {name} and she creates {genre} music.\\nIn Spotify she has {follower_count} followers with popularity score {popularity}. \\nHere is the uri to her profile in Spotify')"
      ],
      "metadata": {
        "colab": {
          "base_uri": "https://localhost:8080/"
        },
        "id": "oAN9AssxTzfz",
        "outputId": "2108d8f0-44ef-42e2-ecd4-287f26c95895"
      },
      "execution_count": 10,
      "outputs": [
        {
          "output_type": "stream",
          "name": "stdout",
          "text": [
            "The artist name is Taylor Swift and she creates pop music.\n",
            "In Spotify she has 108004749 followers with popularity score 100. \n",
            "Here is the uri to her profile in Spotify\n"
          ]
        }
      ]
    },
    {
      "cell_type": "markdown",
      "source": [
        "That's it! It is not very hard, isn't it? If you are interested in exploring more, you could visit Spotify documentation and try making requests to other endpoints and get the data you want. If you meet any problems, you can come and chat with me and I will take a look for you. Optionally, you could also use Spotipy to get the data, which might be easier to use. You can check the tutorial in their documentation: https://spotipy.readthedocs.io/en/2.22.1/ There are lots of example Python code for you to start using.\n",
        "\n",
        "## The End. Thank you!"
      ],
      "metadata": {
        "id": "1A2UVjj3VyrI"
      }
    }
  ]
}