{
  "nbformat": 4,
  "nbformat_minor": 0,
  "metadata": {
    "colab": {
      "provenance": [],
      "authorship_tag": "ABX9TyOK4kFS7cT1tcB8NDA+VACL",
      "include_colab_link": true
    },
    "kernelspec": {
      "name": "python3",
      "display_name": "Python 3"
    },
    "language_info": {
      "name": "python"
    }
  },
  "cells": [
    {
      "cell_type": "markdown",
      "metadata": {
        "id": "view-in-github",
        "colab_type": "text"
      },
      "source": [
        "<a href=\"https://colab.research.google.com/github/Liping-LZ/BDAO_DSDO/blob/main/Text_analysis/word_embedding%26text_classification.ipynb\" target=\"_parent\"><img src=\"https://colab.research.google.com/assets/colab-badge.svg\" alt=\"Open In Colab\"/></a>"
      ]
    },
    {
      "cell_type": "code",
      "source": [
        "from gensim.models import Word2Vec\n",
        "\n",
        "# Example sentences\n",
        "sentences = [['cat', 'sat', 'on', 'the', 'mat'],\n",
        "             ['dog', 'sat', 'on', 'the', 'rug']]\n",
        "\n",
        "# Train CBOW model\n",
        "cbow_model = Word2Vec(sentences, vector_size=10, window=2, min_count=1, sg=0)\n",
        "\n",
        "# Train Skip-gram model\n",
        "skipgram_model = Word2Vec(sentences, vector_size=10, window=2, min_count=1, sg=1)"
      ],
      "metadata": {
        "id": "JWSgF07UiCYC"
      },
      "execution_count": 17,
      "outputs": []
    },
    {
      "cell_type": "code",
      "source": [
        "# Print word vectors\n",
        "for word in cbow_model.wv.key_to_index:\n",
        "    print(word, cbow_model.wv.get_vector(word))"
      ],
      "metadata": {
        "colab": {
          "base_uri": "https://localhost:8080/"
        },
        "id": "KbID0duFii99",
        "outputId": "462b5f2f-47d7-4dbb-87a5-3759f128f7c5"
      },
      "execution_count": 18,
      "outputs": [
        {
          "output_type": "stream",
          "name": "stdout",
          "text": [
            "the [-0.00536227  0.00236431  0.0510335   0.09009273 -0.0930295  -0.07116809\n",
            "  0.06458873  0.08972988 -0.05015428 -0.03763372]\n",
            "on [ 0.07380505 -0.01533471 -0.04536613  0.06554051 -0.0486016  -0.01816018\n",
            "  0.0287658   0.00991874 -0.08285215 -0.09448818]\n",
            "sat [ 0.07311766  0.05070262  0.06757693  0.00762866  0.06350891 -0.03405366\n",
            " -0.00946401  0.05768573 -0.07521638 -0.03936104]\n",
            "rug [-0.07511582 -0.00930042  0.09538119 -0.07319167 -0.02333769 -0.01937741\n",
            "  0.08077437 -0.05930896  0.00045162 -0.04753734]\n",
            "dog [-0.0960355   0.05007293 -0.08759586 -0.04391825 -0.000351   -0.00296181\n",
            " -0.0766124   0.09614743  0.04982058  0.09233143]\n",
            "mat [-0.08157917  0.04495798 -0.04137076  0.00824536  0.08498619 -0.04462177\n",
            "  0.045175   -0.0678696  -0.03548489  0.09398508]\n",
            "cat [-0.01577653  0.00321372 -0.0414063  -0.07682689 -0.01508008  0.02469795\n",
            " -0.00888027  0.05533662 -0.02742977  0.02260065]\n"
          ]
        }
      ]
    },
    {
      "cell_type": "code",
      "source": [
        "# Print word vectors\n",
        "for word in skipgram_model.wv.key_to_index:\n",
        "    print(word, skipgram_model.wv.get_vector(word))"
      ],
      "metadata": {
        "colab": {
          "base_uri": "https://localhost:8080/"
        },
        "id": "DAL8C72mio45",
        "outputId": "0618c5a4-9913-408a-9c5e-0040d4a2ef70"
      },
      "execution_count": 19,
      "outputs": [
        {
          "output_type": "stream",
          "name": "stdout",
          "text": [
            "the [-0.00536227  0.00236431  0.0510335   0.09009273 -0.0930295  -0.07116809\n",
            "  0.06458873  0.08972988 -0.05015428 -0.03763372]\n",
            "on [ 0.07380505 -0.01533471 -0.04536613  0.06554051 -0.0486016  -0.01816018\n",
            "  0.0287658   0.00991874 -0.08285215 -0.09448818]\n",
            "sat [ 0.07311766  0.05070262  0.06757693  0.00762866  0.06350891 -0.03405366\n",
            " -0.00946401  0.05768573 -0.07521638 -0.03936104]\n",
            "rug [-0.07511582 -0.00930042  0.09538119 -0.07319167 -0.02333769 -0.01937741\n",
            "  0.08077437 -0.05930896  0.00045162 -0.04753734]\n",
            "dog [-0.0960355   0.05007293 -0.08759586 -0.04391825 -0.000351   -0.00296181\n",
            " -0.0766124   0.09614743  0.04982058  0.09233143]\n",
            "mat [-0.08157917  0.04495798 -0.04137076  0.00824536  0.08498619 -0.04462177\n",
            "  0.045175   -0.0678696  -0.03548489  0.09398508]\n",
            "cat [-0.01577653  0.00321372 -0.0414063  -0.07682689 -0.01508008  0.02469795\n",
            " -0.00888027  0.05533662 -0.02742977  0.02260065]\n"
          ]
        }
      ]
    },
    {
      "cell_type": "code",
      "source": [
        "# Get similar words\n",
        "similar_words = skipgram_model.wv.most_similar('cat', topn=5)\n",
        "for word, similarity in similar_words:\n",
        "    print(f\"{word}: {similarity}\")"
      ],
      "metadata": {
        "colab": {
          "base_uri": "https://localhost:8080/"
        },
        "id": "gDgiO3lWI1cd",
        "outputId": "4acddbfe-0c1f-4577-8061-2612d086fb18"
      },
      "execution_count": 220,
      "outputs": [
        {
          "output_type": "stream",
          "name": "stdout",
          "text": [
            "dog: 0.614398181438446\n",
            "mat: -0.04264536499977112\n",
            "sat: -0.08937527239322662\n",
            "rug: -0.11387497186660767\n",
            "on: -0.1799870878458023\n"
          ]
        }
      ]
    },
    {
      "cell_type": "code",
      "source": [
        "skipgram_model.wv.similarity('cat','dog')"
      ],
      "metadata": {
        "colab": {
          "base_uri": "https://localhost:8080/"
        },
        "id": "_xPpNLcpMkNf",
        "outputId": "722e59fb-417c-4c04-991a-45529e750521"
      },
      "execution_count": 221,
      "outputs": [
        {
          "output_type": "execute_result",
          "data": {
            "text/plain": [
              "0.6143981"
            ]
          },
          "metadata": {},
          "execution_count": 221
        }
      ]
    },
    {
      "cell_type": "code",
      "source": [
        "from sklearn.decomposition import PCA\n",
        "import matplotlib.pyplot as plt\n",
        "\n",
        "# Get word vectors\n",
        "cbow_vectors = cbow_model.wv[cbow_model.wv.index_to_key]\n",
        "skipgram_vectors = skipgram_model.wv[skipgram_model.wv.index_to_key]\n",
        "\n",
        "# PCA transformation\n",
        "pca = PCA(n_components=2)\n",
        "cbow_pca = pca.fit_transform(cbow_vectors)\n",
        "skipgram_pca = pca.fit_transform(skipgram_vectors)\n",
        "\n",
        "# Plotting\n",
        "fig, axes = plt.subplots(1, 2, figsize=(10, 5))\n",
        "axes[0].scatter(cbow_pca[:, 0], cbow_pca[:, 1], color='red')\n",
        "axes[1].scatter(skipgram_pca[:, 0], skipgram_pca[:, 1], color='blue')\n",
        "for i, word in enumerate(cbow_model.wv.index_to_key):\n",
        "    axes[0].annotate(word, (cbow_pca[i, 0], cbow_pca[i, 1]))\n",
        "    axes[1].annotate(word, (skipgram_pca[i, 0], skipgram_pca[i, 1]))\n",
        "axes[0].set_title('CBOW Embeddings')\n",
        "axes[1].set_title('Skip-gram Embeddings')\n",
        "plt.show()"
      ],
      "metadata": {
        "colab": {
          "base_uri": "https://localhost:8080/",
          "height": 468
        },
        "id": "w6LBzhi0iYbL",
        "outputId": "6a9f52df-9af0-49f6-b9c8-3199e667da60"
      },
      "execution_count": 20,
      "outputs": [
        {
          "output_type": "display_data",
          "data": {
            "text/plain": [
              "<Figure size 1000x500 with 2 Axes>"
            ],
            "image/png": "[encoded data removed]"
          },
          "metadata": {}
        }
      ]
    },
    {
      "cell_type": "code",
      "source": [
        "!pip install fasttext"
      ],
      "metadata": {
        "colab": {
          "base_uri": "https://localhost:8080/"
        },
        "id": "m81xjdk1neTO",
        "outputId": "7421104d-f46a-49dd-ba3d-082b6482bab3"
      },
      "execution_count": 23,
      "outputs": [
        {
          "output_type": "stream",
          "name": "stdout",
          "text": [
            "Collecting fasttext\n",
            "  Downloading fasttext-0.9.2.tar.gz (68 kB)\n",
            "\u001b[?25l     \u001b[90m━━━━━━━━━━━━━━━━━━━━━━━━━━━━━━━━━━━━━━━━\u001b[0m \u001b[32m0.0/68.8 kB\u001b[0m \u001b[31m?\u001b[0m eta \u001b[36m-:--:--\u001b[0m\r\u001b[2K     \u001b[90m━━━━━━━━━━━━━━━━━━━━━━━━━━━━━━━━━━━━━━━━\u001b[0m \u001b[32m68.8/68.8 kB\u001b[0m \u001b[31m2.2 MB/s\u001b[0m eta \u001b[36m0:00:00\u001b[0m\n",
            "\u001b[?25h  Preparing metadata (setup.py) ... \u001b[?25l\u001b[?25hdone\n",
            "Collecting pybind11>=2.2 (from fasttext)\n",
            "  Using cached pybind11-2.12.0-py3-none-any.whl (234 kB)\n",
            "Requirement already satisfied: setuptools>=0.7.0 in /usr/local/lib/python3.10/dist-packages (from fasttext) (67.7.2)\n",
            "Requirement already satisfied: numpy in /usr/local/lib/python3.10/dist-packages (from fasttext) (1.25.2)\n",
            "Building wheels for collected packages: fasttext\n",
            "  Building wheel for fasttext (setup.py) ... \u001b[?25l\u001b[?25hdone\n",
            "  Created wheel for fasttext: filename=fasttext-0.9.2-cp310-cp310-linux_x86_64.whl size=4227145 sha256=364600a7a0a37e8f1635bb401e92f0f9a8448802e7632dd277752f914f88a64a\n",
            "  Stored in directory: /root/.cache/pip/wheels/a5/13/75/f811c84a8ab36eedbaef977a6a58a98990e8e0f1967f98f394\n",
            "Successfully built fasttext\n",
            "Installing collected packages: pybind11, fasttext\n",
            "Successfully installed fasttext-0.9.2 pybind11-2.12.0\n"
          ]
        }
      ]
    },
    {
      "cell_type": "code",
      "source": [
        "# Create sample data and write it to a file\n",
        "sample_text = \"\"\"Machine learning is fascinating.\n",
        "Artificial intelligence is the future.\n",
        "Natural language processing enables machines to read text.\n",
        "Deep learning is a subset of machine learning.\n",
        "Neural networks are key in deep learning.\"\"\"\n",
        "\n",
        "with open(\"sample_data.txt\", \"w\") as file:\n",
        "    file.write(sample_text)"
      ],
      "metadata": {
        "id": "M3cn4cNvnUL4"
      },
      "execution_count": 25,
      "outputs": []
    },
    {
      "cell_type": "code",
      "source": [
        "import fasttext\n",
        "\n",
        "# Train an unsupervised model with the Skip-gram approach\n",
        "model = fasttext.train_unsupervised('sample_data.txt', minCount=1, ws = 2, model='skipgram')\n",
        "\n",
        "# Vector size (dim) specifies the size of the word vectors.\n",
        "# Window size (ws) specifies the size of the window of words around the target word used in training.\n",
        "# Minimum counts (minCount) specifies the minimum number of occurrences of words to be included in the training.\n",
        "# Epochs (epoch) is the number of times the model passes over the entire dataset during training.\n",
        "# Word N-Grams (wordNgrams) defines the maximum length of word n-gram to be considered for creating word features.\n",
        "# Character ngrams (minx and maxn) controls the lengths of character n-grams considered for each word. This is especially important for morphologically rich languages."
      ],
      "metadata": {
        "id": "3bv8UEv7ncdp"
      },
      "execution_count": 34,
      "outputs": []
    },
    {
      "cell_type": "code",
      "source": [
        "# Get the word vector for 'learning'\n",
        "vector = model.get_word_vector('learning')\n",
        "print(\"Vector for 'learning':\\n\", vector)\n",
        "\n",
        "# Find similar words\n",
        "print(\"\\nWords similar to 'learning':\")\n",
        "similar_words = model.get_nearest_neighbors('learning', 10)\n",
        "for score, word in similar_words:\n",
        "    print(f\"{word}: {score:.4f}\")\n"
      ],
      "metadata": {
        "colab": {
          "base_uri": "https://localhost:8080/"
        },
        "id": "Pkcqew-9pHys",
        "outputId": "6dc1420e-a88f-467b-e070-faae1aa65965"
      },
      "execution_count": 35,
      "outputs": [
        {
          "output_type": "stream",
          "name": "stdout",
          "text": [
            "Vector for 'learning':\n",
            " [ 7.82976684e-04 -2.45435891e-04 -5.69682161e-04  1.16606592e-04\n",
            "  2.57212287e-05 -1.99166443e-05 -4.94298758e-04 -8.75192229e-04\n",
            "  8.49103613e-04 -6.62688471e-05 -1.48577645e-04 -4.90656712e-05\n",
            " -6.03424443e-04  1.76270318e-04 -5.27153956e-04  4.32759916e-05\n",
            " -3.18157632e-04 -2.58094398e-04 -1.04721391e-03  1.88952952e-04\n",
            "  3.58082849e-04 -5.78822626e-04  2.48706754e-04  1.90370614e-04\n",
            "  4.90675622e-04 -6.08088099e-04  5.38432447e-04 -4.04491497e-04\n",
            " -3.82268161e-04  4.44940815e-04  2.13447885e-04  6.15764700e-04\n",
            " -5.36552572e-04  9.92012792e-04 -5.92317083e-04 -1.74144108e-04\n",
            " -2.21600669e-04 -2.54857077e-05 -1.94362190e-04  5.11036080e-04\n",
            " -6.42232422e-04  1.59275092e-04  5.56781830e-04 -6.14781020e-05\n",
            "  3.06993461e-04  3.30762152e-04 -3.14885488e-04  3.83634178e-04\n",
            "  1.50947366e-04  6.36365497e-04 -1.41252967e-04  4.31907829e-04\n",
            "  5.93392528e-04 -1.58560986e-04 -8.11894715e-04  8.61623339e-05\n",
            " -3.01387499e-05 -5.55683044e-04 -5.35976142e-04 -4.70865198e-04\n",
            " -1.98022990e-05  4.06525040e-04 -3.27281246e-04 -1.82891978e-04\n",
            " -6.37763238e-04  2.46520940e-04 -9.29155853e-04 -6.65682950e-04\n",
            " -2.45851115e-04 -4.89316553e-05  3.90057132e-04  1.44153470e-04\n",
            "  4.25842591e-05 -1.96179491e-04 -3.95337614e-04  7.05285784e-05\n",
            "  6.99960568e-04 -1.74683009e-05  6.47785608e-04 -7.15848757e-04\n",
            "  1.83561540e-04 -4.55321016e-04 -2.80349457e-04 -3.41906532e-04\n",
            "  1.77464448e-04 -6.36335870e-04 -1.89929691e-04  5.80199179e-04\n",
            "  2.76393635e-04  1.55144444e-04  1.56241484e-04  3.31207630e-05\n",
            "  7.11132379e-05  1.79349081e-04 -6.18840801e-04  1.18059106e-04\n",
            " -1.62423089e-06  6.87397318e-04  3.29139759e-04  7.08946667e-04]\n",
            "\n",
            "Words similar to 'learning':\n",
            "learning.: 0.6879\n",
            "machines: 0.2198\n",
            "text.: 0.1881\n",
            "machine: 0.1310\n",
            "of: 0.0942\n",
            "Neural: 0.0858\n",
            "a: 0.0788\n",
            "are: 0.0570\n",
            "deep: 0.0546\n",
            "Artificial: 0.0391\n"
          ]
        }
      ]
    },
    {
      "cell_type": "code",
      "source": [
        "import pandas as pd\n",
        "\n",
        "colnames = ['category', 'product description']\n",
        "df = pd.read_csv('ecommerceDataset.csv', header=None, names=colnames)\n",
        "df.head()"
      ],
      "metadata": {
        "colab": {
          "base_uri": "https://localhost:8080/",
          "height": 206
        },
        "id": "OURGbR2EvQ5g",
        "outputId": "3a0e5381-5ab6-43b9-9792-54078727d116"
      },
      "execution_count": 185,
      "outputs": [
        {
          "output_type": "execute_result",
          "data": {
            "text/plain": [
              "    category                                product description\n",
              "0  Household  Paper Plane Design Framed Wall Hanging Motivat...\n",
              "1  Household  SAF 'Floral' Framed Painting (Wood, 30 inch x ...\n",
              "2  Household  SAF 'UV Textured Modern Art Print Framed' Pain...\n",
              "3  Household  SAF Flower Print Framed Painting (Synthetic, 1...\n",
              "4  Household  Incredible Gifts India Wooden Happy Birthday U..."
            ],
            "text/html": [
              "\n",
              "  <div id=\"df-075d2fb7-35b1-4f91-9725-fd93ee969413\" class=\"colab-df-container\">\n",
              "    <div>\n",
              "<style scoped>\n",
              "    .dataframe tbody tr th:only-of-type {\n",
              "        vertical-align: middle;\n",
              "    }\n",
              "\n",
              "    .dataframe tbody tr th {\n",
              "        vertical-align: top;\n",
              "    }\n",
              "\n",
              "    .dataframe thead th {\n",
              "        text-align: right;\n",
              "    }\n",
              "</style>\n",
              "<table border=\"1\" class=\"dataframe\">\n",
              "  <thead>\n",
              "    <tr style=\"text-align: right;\">\n",
              "      <th></th>\n",
              "      <th>category</th>\n",
              "      <th>product description</th>\n",
              "    </tr>\n",
              "  </thead>\n",
              "  <tbody>\n",
              "    <tr>\n",
              "      <th>0</th>\n",
              "      <td>Household</td>\n",
              "      <td>Paper Plane Design Framed Wall Hanging Motivat...</td>\n",
              "    </tr>\n",
              "    <tr>\n",
              "      <th>1</th>\n",
              "      <td>Household</td>\n",
              "      <td>SAF 'Floral' Framed Painting (Wood, 30 inch x ...</td>\n",
              "    </tr>\n",
              "    <tr>\n",
              "      <th>2</th>\n",
              "      <td>Household</td>\n",
              "      <td>SAF 'UV Textured Modern Art Print Framed' Pain...</td>\n",
              "    </tr>\n",
              "    <tr>\n",
              "      <th>3</th>\n",
              "      <td>Household</td>\n",
              "      <td>SAF Flower Print Framed Painting (Synthetic, 1...</td>\n",
              "    </tr>\n",
              "    <tr>\n",
              "      <th>4</th>\n",
              "      <td>Household</td>\n",
              "      <td>Incredible Gifts India Wooden Happy Birthday U...</td>\n",
              "    </tr>\n",
              "  </tbody>\n",
              "</table>\n",
              "</div>\n",
              "    <div class=\"colab-df-buttons\">\n",
              "\n",
              "  <div class=\"colab-df-container\">\n",
              "    <button class=\"colab-df-convert\" onclick=\"convertToInteractive('df-075d2fb7-35b1-4f91-9725-fd93ee969413')\"\n",
              "            title=\"Convert this dataframe to an interactive table.\"\n",
              "            style=\"display:none;\">\n",
              "\n",
              "  <svg xmlns=\"http://www.w3.org/2000/svg\" height=\"24px\" viewBox=\"0 -960 960 960\">\n",
              "    <path d=\"M120-120v-720h720v720H120Zm60-500h600v-160H180v160Zm220 220h160v-160H400v160Zm0 220h160v-160H400v160ZM180-400h160v-160H180v160Zm440 0h160v-160H620v160ZM180-180h160v-160H180v160Zm440 0h160v-160H620v160Z\"/>\n",
              "  </svg>\n",
              "    </button>\n",
              "\n",
              "  <style>\n",
              "    .colab-df-container {\n",
              "      display:flex;\n",
              "      gap: 12px;\n",
              "    }\n",
              "\n",
              "    .colab-df-convert {\n",
              "      background-color: #E8F0FE;\n",
              "      border: none;\n",
              "      border-radius: 50%;\n",
              "      cursor: pointer;\n",
              "      display: none;\n",
              "      fill: #1967D2;\n",
              "      height: 32px;\n",
              "      padding: 0 0 0 0;\n",
              "      width: 32px;\n",
              "    }\n",
              "\n",
              "    .colab-df-convert:hover {\n",
              "      background-color: #E2EBFA;\n",
              "      box-shadow: 0px 1px 2px rgba(60, 64, 67, 0.3), 0px 1px 3px 1px rgba(60, 64, 67, 0.15);\n",
              "      fill: #174EA6;\n",
              "    }\n",
              "\n",
              "    .colab-df-buttons div {\n",
              "      margin-bottom: 4px;\n",
              "    }\n",
              "\n",
              "    [theme=dark] .colab-df-convert {\n",
              "      background-color: #3B4455;\n",
              "      fill: #D2E3FC;\n",
              "    }\n",
              "\n",
              "    [theme=dark] .colab-df-convert:hover {\n",
              "      background-color: #434B5C;\n",
              "      box-shadow: 0px 1px 3px 1px rgba(0, 0, 0, 0.15);\n",
              "      filter: drop-shadow(0px 1px 2px rgba(0, 0, 0, 0.3));\n",
              "      fill: #FFFFFF;\n",
              "    }\n",
              "  </style>\n",
              "\n",
              "    <script>\n",
              "      const buttonEl =\n",
              "        document.querySelector('#df-075d2fb7-35b1-4f91-9725-fd93ee969413 button.colab-df-convert');\n",
              "      buttonEl.style.display =\n",
              "        google.colab.kernel.accessAllowed ? 'block' : 'none';\n",
              "\n",
              "      async function convertToInteractive(key) {\n",
              "        const element = document.querySelector('#df-075d2fb7-35b1-4f91-9725-fd93ee969413');\n",
              "        const dataTable =\n",
              "          await google.colab.kernel.invokeFunction('convertToInteractive',\n",
              "                                                    [key], {});\n",
              "        if (!dataTable) return;\n",
              "\n",
              "        const docLinkHtml = 'Like what you see? Visit the ' +\n",
              "          '<a target=\"_blank\" href=https://colab.research.google.com/notebooks/data_table.ipynb>data table notebook</a>'\n",
              "          + ' to learn more about interactive tables.';\n",
              "        element.innerHTML = '';\n",
              "        dataTable['output_type'] = 'display_data';\n",
              "        await google.colab.output.renderOutput(dataTable, element);\n",
              "        const docLink = document.createElement('div');\n",
              "        docLink.innerHTML = docLinkHtml;\n",
              "        element.appendChild(docLink);\n",
              "      }\n",
              "    </script>\n",
              "  </div>\n",
              "\n",
              "\n",
              "<div id=\"df-a2602206-c5f3-42db-88d9-1c20fd9a6262\">\n",
              "  <button class=\"colab-df-quickchart\" onclick=\"quickchart('df-a2602206-c5f3-42db-88d9-1c20fd9a6262')\"\n",
              "            title=\"Suggest charts\"\n",
              "            style=\"display:none;\">\n",
              "\n",
              "<svg xmlns=\"http://www.w3.org/2000/svg\" height=\"24px\"viewBox=\"0 0 24 24\"\n",
              "     width=\"24px\">\n",
              "    <g>\n",
              "        <path d=\"M19 3H5c-1.1 0-2 .9-2 2v14c0 1.1.9 2 2 2h14c1.1 0 2-.9 2-2V5c0-1.1-.9-2-2-2zM9 17H7v-7h2v7zm4 0h-2V7h2v10zm4 0h-2v-4h2v4z\"/>\n",
              "    </g>\n",
              "</svg>\n",
              "  </button>\n",
              "\n",
              "<style>\n",
              "  .colab-df-quickchart {\n",
              "      --bg-color: #E8F0FE;\n",
              "      --fill-color: #1967D2;\n",
              "      --hover-bg-color: #E2EBFA;\n",
              "      --hover-fill-color: #174EA6;\n",
              "      --disabled-fill-color: #AAA;\n",
              "      --disabled-bg-color: #DDD;\n",
              "  }\n",
              "\n",
              "  [theme=dark] .colab-df-quickchart {\n",
              "      --bg-color: #3B4455;\n",
              "      --fill-color: #D2E3FC;\n",
              "      --hover-bg-color: #434B5C;\n",
              "      --hover-fill-color: #FFFFFF;\n",
              "      --disabled-bg-color: #3B4455;\n",
              "      --disabled-fill-color: #666;\n",
              "  }\n",
              "\n",
              "  .colab-df-quickchart {\n",
              "    background-color: var(--bg-color);\n",
              "    border: none;\n",
              "    border-radius: 50%;\n",
              "    cursor: pointer;\n",
              "    display: none;\n",
              "    fill: var(--fill-color);\n",
              "    height: 32px;\n",
              "    padding: 0;\n",
              "    width: 32px;\n",
              "  }\n",
              "\n",
              "  .colab-df-quickchart:hover {\n",
              "    background-color: var(--hover-bg-color);\n",
              "    box-shadow: 0 1px 2px rgba(60, 64, 67, 0.3), 0 1px 3px 1px rgba(60, 64, 67, 0.15);\n",
              "    fill: var(--button-hover-fill-color);\n",
              "  }\n",
              "\n",
              "  .colab-df-quickchart-complete:disabled,\n",
              "  .colab-df-quickchart-complete:disabled:hover {\n",
              "    background-color: var(--disabled-bg-color);\n",
              "    fill: var(--disabled-fill-color);\n",
              "    box-shadow: none;\n",
              "  }\n",
              "\n",
              "  .colab-df-spinner {\n",
              "    border: 2px solid var(--fill-color);\n",
              "    border-color: transparent;\n",
              "    border-bottom-color: var(--fill-color);\n",
              "    animation:\n",
              "      spin 1s steps(1) infinite;\n",
              "  }\n",
              "\n",
              "  @keyframes spin {\n",
              "    0% {\n",
              "      border-color: transparent;\n",
              "      border-bottom-color: var(--fill-color);\n",
              "      border-left-color: var(--fill-color);\n",
              "    }\n",
              "    20% {\n",
              "      border-color: transparent;\n",
              "      border-left-color: var(--fill-color);\n",
              "      border-top-color: var(--fill-color);\n",
              "    }\n",
              "    30% {\n",
              "      border-color: transparent;\n",
              "      border-left-color: var(--fill-color);\n",
              "      border-top-color: var(--fill-color);\n",
              "      border-right-color: var(--fill-color);\n",
              "    }\n",
              "    40% {\n",
              "      border-color: transparent;\n",
              "      border-right-color: var(--fill-color);\n",
              "      border-top-color: var(--fill-color);\n",
              "    }\n",
              "    60% {\n",
              "      border-color: transparent;\n",
              "      border-right-color: var(--fill-color);\n",
              "    }\n",
              "    80% {\n",
              "      border-color: transparent;\n",
              "      border-right-color: var(--fill-color);\n",
              "      border-bottom-color: var(--fill-color);\n",
              "    }\n",
              "    90% {\n",
              "      border-color: transparent;\n",
              "      border-bottom-color: var(--fill-color);\n",
              "    }\n",
              "  }\n",
              "</style>\n",
              "\n",
              "  <script>\n",
              "    async function quickchart(key) {\n",
              "      const quickchartButtonEl =\n",
              "        document.querySelector('#' + key + ' button');\n",
              "      quickchartButtonEl.disabled = true;  // To prevent multiple clicks.\n",
              "      quickchartButtonEl.classList.add('colab-df-spinner');\n",
              "      try {\n",
              "        const charts = await google.colab.kernel.invokeFunction(\n",
              "            'suggestCharts', [key], {});\n",
              "      } catch (error) {\n",
              "        console.error('Error during call to suggestCharts:', error);\n",
              "      }\n",
              "      quickchartButtonEl.classList.remove('colab-df-spinner');\n",
              "      quickchartButtonEl.classList.add('colab-df-quickchart-complete');\n",
              "    }\n",
              "    (() => {\n",
              "      let quickchartButtonEl =\n",
              "        document.querySelector('#df-a2602206-c5f3-42db-88d9-1c20fd9a6262 button');\n",
              "      quickchartButtonEl.style.display =\n",
              "        google.colab.kernel.accessAllowed ? 'block' : 'none';\n",
              "    })();\n",
              "  </script>\n",
              "</div>\n",
              "    </div>\n",
              "  </div>\n"
            ],
            "application/vnd.google.colaboratory.intrinsic+json": {
              "type": "dataframe",
              "variable_name": "df",
              "summary": "{\n  \"name\": \"df\",\n  \"rows\": 50425,\n  \"fields\": [\n    {\n      \"column\": \"category\",\n      \"properties\": {\n        \"dtype\": \"category\",\n        \"num_unique_values\": 4,\n        \"samples\": [\n          \"Books\",\n          \"Electronics\",\n          \"Household\"\n        ],\n        \"semantic_type\": \"\",\n        \"description\": \"\"\n      }\n    },\n    {\n      \"column\": \"product description\",\n      \"properties\": {\n        \"dtype\": \"string\",\n        \"num_unique_values\": 27802,\n        \"samples\": [\n          \"Canon EOS 1500D Digital SLR Camera (Black) with EF S18-55 is II Lens/Camera Case Style name:EF S18-55   All camera users, even beginners, will be able to capture amazing images and movies with this DSLR camera, which is equipped with a 24.1-megapixel APS-C-size CMOS sensor and an optical viewfinder for an authentic DSLR shooting experience. Capturing sharp images is easy thanks to the fast, accurate AF and the large grip that provides a firm, steady hold on the camera. Built-in Wi-Fi / NFC connectivity enables the seamless upload of photos and videos to social media.\",\n          \"NIRVA Electric Automatic Yogurt Maker 1L Electronic Stainless Steel Mini Portable Yogurt Making Machine Yogurt Maker (Pink) Color Name:Pink   Add natural yogurt or culture to pre-boiled milk then get creative with flavors and ingredients. Fill yogurt with your favorite fruit or go for something a little naughtier such as chocolate chips \\u2013 the options are endless! to make yogurts just how you like them. Yogurt Maker automatically cools and ferments ingredients to create 100% natural healthy yogurt with no coloring's, preservatives or artificial flavors. Specification: Material: Plastic, 304 Stainless Steel Voltage: 220V/50Hz(please note if it fits your country standard) Power: 15W Frequency: 50Hz Capacity: 1L(approx) Feature: Make fresh and healthy yogurt in your own home quickly and easily, with the flip of a switch. 360\\u00b0stereo fermentation guarantee the taste of yogurt smooth and fine, mellow and fresh. Made from food grade quality materials, safe and harmless, way to use and eat yogurt. Auto control. You can just put the material inside, close the lid and power on to make the machine work. You can just put the material inside, close the lid and power on to make the machine work. Wih the help of it, you can make fresh yogurt at home by yourself quickly and easily.How To Use Step 1) Pour Fresh Milk into the stainless steel Container, Step 2) Add 2-3 table spoon of fresh plain Yogurt or 1 gram of yeast, Step 3) Switch on the maker and leave it for 8-9 hours, Step 4) After 8-9 hours, Your Yogurt is ready\",\n          \"SHOPTOSHOP Plastic Lint Cum Fuzz Remover for All Woolenss (Multicolour) Lint remover,remove the fuzz instantly without damaging clothes. It is made of plastic.\"\n        ],\n        \"semantic_type\": \"\",\n        \"description\": \"\"\n      }\n    }\n  ]\n}"
            }
          },
          "metadata": {},
          "execution_count": 185
        }
      ]
    },
    {
      "cell_type": "code",
      "source": [
        "len(df)"
      ],
      "metadata": {
        "colab": {
          "base_uri": "https://localhost:8080/"
        },
        "id": "Drbm8xoIw8S7",
        "outputId": "c8da46b3-9d5b-4162-c415-51b57f73e7df"
      },
      "execution_count": 186,
      "outputs": [
        {
          "output_type": "execute_result",
          "data": {
            "text/plain": [
              "50425"
            ]
          },
          "metadata": {},
          "execution_count": 186
        }
      ]
    },
    {
      "cell_type": "code",
      "source": [
        "df.isnull().sum()"
      ],
      "metadata": {
        "colab": {
          "base_uri": "https://localhost:8080/"
        },
        "id": "9Xd1qTdbxBHD",
        "outputId": "dae56326-f0c2-48aa-c188-cb6d2fcbaa81"
      },
      "execution_count": 187,
      "outputs": [
        {
          "output_type": "execute_result",
          "data": {
            "text/plain": [
              "category               0\n",
              "product description    1\n",
              "dtype: int64"
            ]
          },
          "metadata": {},
          "execution_count": 187
        }
      ]
    },
    {
      "cell_type": "code",
      "source": [
        "df = df.dropna()"
      ],
      "metadata": {
        "id": "9ekczjJixD-U"
      },
      "execution_count": 188,
      "outputs": []
    },
    {
      "cell_type": "code",
      "source": [
        "df.duplicated().sum()"
      ],
      "metadata": {
        "colab": {
          "base_uri": "https://localhost:8080/"
        },
        "id": "UESC6obuBNrI",
        "outputId": "881758e6-cc4a-4a67-85cd-ddbbd66a0163"
      },
      "execution_count": 189,
      "outputs": [
        {
          "output_type": "execute_result",
          "data": {
            "text/plain": [
              "22622"
            ]
          },
          "metadata": {},
          "execution_count": 189
        }
      ]
    },
    {
      "cell_type": "code",
      "source": [
        "df = df.drop_duplicates()"
      ],
      "metadata": {
        "id": "GWr6PjusBT5t"
      },
      "execution_count": 190,
      "outputs": []
    },
    {
      "cell_type": "code",
      "source": [
        "# convert the relevant column to lowercase\n",
        "df['product description'] = df['product description'].str.lower()"
      ],
      "metadata": {
        "id": "DZhfdRXPDAXW"
      },
      "execution_count": 192,
      "outputs": []
    },
    {
      "cell_type": "code",
      "source": [
        "import re\n",
        "# Remove new line characters (\"/n\")\n",
        "df['product description'] = df['product description'].map(lambda x: re.sub('\\s+', ' ', x))\n",
        "# Remove non-word characters, so numbers and ___ etc\n",
        "df['product description'] = df['product description'].str.replace(\"[^A-Za-z]\", \" \", regex = True)\n",
        "# Remove overspace\n",
        "df['product description'] = df['product description'].map(lambda x: re.sub('\\s{2,}', \" \", x))"
      ],
      "metadata": {
        "id": "P9o8oIIIDXSG"
      },
      "execution_count": 193,
      "outputs": []
    },
    {
      "cell_type": "code",
      "source": [
        "#map categories into numbers by getting unique categories\n",
        "unique_categories = df.category.unique()"
      ],
      "metadata": {
        "id": "qdmnQKXtxR7X"
      },
      "execution_count": 194,
      "outputs": []
    },
    {
      "cell_type": "code",
      "source": [
        "unique_categories"
      ],
      "metadata": {
        "colab": {
          "base_uri": "https://localhost:8080/"
        },
        "id": "L_ipMf1PxWtR",
        "outputId": "5062e63f-aa32-44b1-cb53-037692a53abc"
      },
      "execution_count": 195,
      "outputs": [
        {
          "output_type": "execute_result",
          "data": {
            "text/plain": [
              "array(['Household', 'Books', 'Clothing & Accessories', 'Electronics'],\n",
              "      dtype=object)"
            ]
          },
          "metadata": {},
          "execution_count": 195
        }
      ]
    },
    {
      "cell_type": "code",
      "source": [
        "df.category.value_counts()"
      ],
      "metadata": {
        "colab": {
          "base_uri": "https://localhost:8080/"
        },
        "id": "dLZpfnOm7WKI",
        "outputId": "d636db45-0b0c-4584-8b6b-e907f08f023e"
      },
      "execution_count": 196,
      "outputs": [
        {
          "output_type": "execute_result",
          "data": {
            "text/plain": [
              "category\n",
              "Household                 10564\n",
              "Books                      6256\n",
              "Clothing & Accessories     5674\n",
              "Electronics                5308\n",
              "Name: count, dtype: int64"
            ]
          },
          "metadata": {},
          "execution_count": 196
        }
      ]
    },
    {
      "cell_type": "code",
      "source": [
        "df['category'] = df['category'].str.replace('Clothing & Accessories', 'Clothing&Accessories')"
      ],
      "metadata": {
        "id": "J5oW_JVP6DVn"
      },
      "execution_count": 197,
      "outputs": []
    },
    {
      "cell_type": "code",
      "source": [
        "df_labeled = df.copy()\n",
        "df_labeled['category_index'] = '__label__' + df_labeled['category'].astype(str)\n",
        "df_labeled.head()"
      ],
      "metadata": {
        "colab": {
          "base_uri": "https://localhost:8080/",
          "height": 206
        },
        "id": "5TZHZ_Oj2Qvj",
        "outputId": "5c7ebead-3e29-4367-a3c7-be289d9d4faf"
      },
      "execution_count": 198,
      "outputs": [
        {
          "output_type": "execute_result",
          "data": {
            "text/plain": [
              "    category                                product description  \\\n",
              "0  Household  paper plane design framed wall hanging motivat...   \n",
              "1  Household  saf floral framed painting wood inch x inch sp...   \n",
              "2  Household  saf uv textured modern art print framed painti...   \n",
              "3  Household  saf flower print framed painting synthetic inc...   \n",
              "4  Household  incredible gifts india wooden happy birthday u...   \n",
              "\n",
              "       category_index  \n",
              "0  __label__Household  \n",
              "1  __label__Household  \n",
              "2  __label__Household  \n",
              "3  __label__Household  \n",
              "4  __label__Household  "
            ],
            "text/html": [
              "\n",
              "  <div id=\"df-3bf8a958-9992-4d70-9a1c-b6492a062150\" class=\"colab-df-container\">\n",
              "    <div>\n",
              "<style scoped>\n",
              "    .dataframe tbody tr th:only-of-type {\n",
              "        vertical-align: middle;\n",
              "    }\n",
              "\n",
              "    .dataframe tbody tr th {\n",
              "        vertical-align: top;\n",
              "    }\n",
              "\n",
              "    .dataframe thead th {\n",
              "        text-align: right;\n",
              "    }\n",
              "</style>\n",
              "<table border=\"1\" class=\"dataframe\">\n",
              "  <thead>\n",
              "    <tr style=\"text-align: right;\">\n",
              "      <th></th>\n",
              "      <th>category</th>\n",
              "      <th>product description</th>\n",
              "      <th>category_index</th>\n",
              "    </tr>\n",
              "  </thead>\n",
              "  <tbody>\n",
              "    <tr>\n",
              "      <th>0</th>\n",
              "      <td>Household</td>\n",
              "      <td>paper plane design framed wall hanging motivat...</td>\n",
              "      <td>__label__Household</td>\n",
              "    </tr>\n",
              "    <tr>\n",
              "      <th>1</th>\n",
              "      <td>Household</td>\n",
              "      <td>saf floral framed painting wood inch x inch sp...</td>\n",
              "      <td>__label__Household</td>\n",
              "    </tr>\n",
              "    <tr>\n",
              "      <th>2</th>\n",
              "      <td>Household</td>\n",
              "      <td>saf uv textured modern art print framed painti...</td>\n",
              "      <td>__label__Household</td>\n",
              "    </tr>\n",
              "    <tr>\n",
              "      <th>3</th>\n",
              "      <td>Household</td>\n",
              "      <td>saf flower print framed painting synthetic inc...</td>\n",
              "      <td>__label__Household</td>\n",
              "    </tr>\n",
              "    <tr>\n",
              "      <th>4</th>\n",
              "      <td>Household</td>\n",
              "      <td>incredible gifts india wooden happy birthday u...</td>\n",
              "      <td>__label__Household</td>\n",
              "    </tr>\n",
              "  </tbody>\n",
              "</table>\n",
              "</div>\n",
              "    <div class=\"colab-df-buttons\">\n",
              "\n",
              "  <div class=\"colab-df-container\">\n",
              "    <button class=\"colab-df-convert\" onclick=\"convertToInteractive('df-3bf8a958-9992-4d70-9a1c-b6492a062150')\"\n",
              "            title=\"Convert this dataframe to an interactive table.\"\n",
              "            style=\"display:none;\">\n",
              "\n",
              "  <svg xmlns=\"http://www.w3.org/2000/svg\" height=\"24px\" viewBox=\"0 -960 960 960\">\n",
              "    <path d=\"M120-120v-720h720v720H120Zm60-500h600v-160H180v160Zm220 220h160v-160H400v160Zm0 220h160v-160H400v160ZM180-400h160v-160H180v160Zm440 0h160v-160H620v160ZM180-180h160v-160H180v160Zm440 0h160v-160H620v160Z\"/>\n",
              "  </svg>\n",
              "    </button>\n",
              "\n",
              "  <style>\n",
              "    .colab-df-container {\n",
              "      display:flex;\n",
              "      gap: 12px;\n",
              "    }\n",
              "\n",
              "    .colab-df-convert {\n",
              "      background-color: #E8F0FE;\n",
              "      border: none;\n",
              "      border-radius: 50%;\n",
              "      cursor: pointer;\n",
              "      display: none;\n",
              "      fill: #1967D2;\n",
              "      height: 32px;\n",
              "      padding: 0 0 0 0;\n",
              "      width: 32px;\n",
              "    }\n",
              "\n",
              "    .colab-df-convert:hover {\n",
              "      background-color: #E2EBFA;\n",
              "      box-shadow: 0px 1px 2px rgba(60, 64, 67, 0.3), 0px 1px 3px 1px rgba(60, 64, 67, 0.15);\n",
              "      fill: #174EA6;\n",
              "    }\n",
              "\n",
              "    .colab-df-buttons div {\n",
              "      margin-bottom: 4px;\n",
              "    }\n",
              "\n",
              "    [theme=dark] .colab-df-convert {\n",
              "      background-color: #3B4455;\n",
              "      fill: #D2E3FC;\n",
              "    }\n",
              "\n",
              "    [theme=dark] .colab-df-convert:hover {\n",
              "      background-color: #434B5C;\n",
              "      box-shadow: 0px 1px 3px 1px rgba(0, 0, 0, 0.15);\n",
              "      filter: drop-shadow(0px 1px 2px rgba(0, 0, 0, 0.3));\n",
              "      fill: #FFFFFF;\n",
              "    }\n",
              "  </style>\n",
              "\n",
              "    <script>\n",
              "      const buttonEl =\n",
              "        document.querySelector('#df-3bf8a958-9992-4d70-9a1c-b6492a062150 button.colab-df-convert');\n",
              "      buttonEl.style.display =\n",
              "        google.colab.kernel.accessAllowed ? 'block' : 'none';\n",
              "\n",
              "      async function convertToInteractive(key) {\n",
              "        const element = document.querySelector('#df-3bf8a958-9992-4d70-9a1c-b6492a062150');\n",
              "        const dataTable =\n",
              "          await google.colab.kernel.invokeFunction('convertToInteractive',\n",
              "                                                    [key], {});\n",
              "        if (!dataTable) return;\n",
              "\n",
              "        const docLinkHtml = 'Like what you see? Visit the ' +\n",
              "          '<a target=\"_blank\" href=https://colab.research.google.com/notebooks/data_table.ipynb>data table notebook</a>'\n",
              "          + ' to learn more about interactive tables.';\n",
              "        element.innerHTML = '';\n",
              "        dataTable['output_type'] = 'display_data';\n",
              "        await google.colab.output.renderOutput(dataTable, element);\n",
              "        const docLink = document.createElement('div');\n",
              "        docLink.innerHTML = docLinkHtml;\n",
              "        element.appendChild(docLink);\n",
              "      }\n",
              "    </script>\n",
              "  </div>\n",
              "\n",
              "\n",
              "<div id=\"df-d242628e-b627-4b44-880d-36b604f54d68\">\n",
              "  <button class=\"colab-df-quickchart\" onclick=\"quickchart('df-d242628e-b627-4b44-880d-36b604f54d68')\"\n",
              "            title=\"Suggest charts\"\n",
              "            style=\"display:none;\">\n",
              "\n",
              "<svg xmlns=\"http://www.w3.org/2000/svg\" height=\"24px\"viewBox=\"0 0 24 24\"\n",
              "     width=\"24px\">\n",
              "    <g>\n",
              "        <path d=\"M19 3H5c-1.1 0-2 .9-2 2v14c0 1.1.9 2 2 2h14c1.1 0 2-.9 2-2V5c0-1.1-.9-2-2-2zM9 17H7v-7h2v7zm4 0h-2V7h2v10zm4 0h-2v-4h2v4z\"/>\n",
              "    </g>\n",
              "</svg>\n",
              "  </button>\n",
              "\n",
              "<style>\n",
              "  .colab-df-quickchart {\n",
              "      --bg-color: #E8F0FE;\n",
              "      --fill-color: #1967D2;\n",
              "      --hover-bg-color: #E2EBFA;\n",
              "      --hover-fill-color: #174EA6;\n",
              "      --disabled-fill-color: #AAA;\n",
              "      --disabled-bg-color: #DDD;\n",
              "  }\n",
              "\n",
              "  [theme=dark] .colab-df-quickchart {\n",
              "      --bg-color: #3B4455;\n",
              "      --fill-color: #D2E3FC;\n",
              "      --hover-bg-color: #434B5C;\n",
              "      --hover-fill-color: #FFFFFF;\n",
              "      --disabled-bg-color: #3B4455;\n",
              "      --disabled-fill-color: #666;\n",
              "  }\n",
              "\n",
              "  .colab-df-quickchart {\n",
              "    background-color: var(--bg-color);\n",
              "    border: none;\n",
              "    border-radius: 50%;\n",
              "    cursor: pointer;\n",
              "    display: none;\n",
              "    fill: var(--fill-color);\n",
              "    height: 32px;\n",
              "    padding: 0;\n",
              "    width: 32px;\n",
              "  }\n",
              "\n",
              "  .colab-df-quickchart:hover {\n",
              "    background-color: var(--hover-bg-color);\n",
              "    box-shadow: 0 1px 2px rgba(60, 64, 67, 0.3), 0 1px 3px 1px rgba(60, 64, 67, 0.15);\n",
              "    fill: var(--button-hover-fill-color);\n",
              "  }\n",
              "\n",
              "  .colab-df-quickchart-complete:disabled,\n",
              "  .colab-df-quickchart-complete:disabled:hover {\n",
              "    background-color: var(--disabled-bg-color);\n",
              "    fill: var(--disabled-fill-color);\n",
              "    box-shadow: none;\n",
              "  }\n",
              "\n",
              "  .colab-df-spinner {\n",
              "    border: 2px solid var(--fill-color);\n",
              "    border-color: transparent;\n",
              "    border-bottom-color: var(--fill-color);\n",
              "    animation:\n",
              "      spin 1s steps(1) infinite;\n",
              "  }\n",
              "\n",
              "  @keyframes spin {\n",
              "    0% {\n",
              "      border-color: transparent;\n",
              "      border-bottom-color: var(--fill-color);\n",
              "      border-left-color: var(--fill-color);\n",
              "    }\n",
              "    20% {\n",
              "      border-color: transparent;\n",
              "      border-left-color: var(--fill-color);\n",
              "      border-top-color: var(--fill-color);\n",
              "    }\n",
              "    30% {\n",
              "      border-color: transparent;\n",
              "      border-left-color: var(--fill-color);\n",
              "      border-top-color: var(--fill-color);\n",
              "      border-right-color: var(--fill-color);\n",
              "    }\n",
              "    40% {\n",
              "      border-color: transparent;\n",
              "      border-right-color: var(--fill-color);\n",
              "      border-top-color: var(--fill-color);\n",
              "    }\n",
              "    60% {\n",
              "      border-color: transparent;\n",
              "      border-right-color: var(--fill-color);\n",
              "    }\n",
              "    80% {\n",
              "      border-color: transparent;\n",
              "      border-right-color: var(--fill-color);\n",
              "      border-bottom-color: var(--fill-color);\n",
              "    }\n",
              "    90% {\n",
              "      border-color: transparent;\n",
              "      border-bottom-color: var(--fill-color);\n",
              "    }\n",
              "  }\n",
              "</style>\n",
              "\n",
              "  <script>\n",
              "    async function quickchart(key) {\n",
              "      const quickchartButtonEl =\n",
              "        document.querySelector('#' + key + ' button');\n",
              "      quickchartButtonEl.disabled = true;  // To prevent multiple clicks.\n",
              "      quickchartButtonEl.classList.add('colab-df-spinner');\n",
              "      try {\n",
              "        const charts = await google.colab.kernel.invokeFunction(\n",
              "            'suggestCharts', [key], {});\n",
              "      } catch (error) {\n",
              "        console.error('Error during call to suggestCharts:', error);\n",
              "      }\n",
              "      quickchartButtonEl.classList.remove('colab-df-spinner');\n",
              "      quickchartButtonEl.classList.add('colab-df-quickchart-complete');\n",
              "    }\n",
              "    (() => {\n",
              "      let quickchartButtonEl =\n",
              "        document.querySelector('#df-d242628e-b627-4b44-880d-36b604f54d68 button');\n",
              "      quickchartButtonEl.style.display =\n",
              "        google.colab.kernel.accessAllowed ? 'block' : 'none';\n",
              "    })();\n",
              "  </script>\n",
              "</div>\n",
              "    </div>\n",
              "  </div>\n"
            ],
            "application/vnd.google.colaboratory.intrinsic+json": {
              "type": "dataframe",
              "variable_name": "df_labeled",
              "summary": "{\n  \"name\": \"df_labeled\",\n  \"rows\": 27802,\n  \"fields\": [\n    {\n      \"column\": \"category\",\n      \"properties\": {\n        \"dtype\": \"category\",\n        \"num_unique_values\": 4,\n        \"samples\": [\n          \"Books\",\n          \"Electronics\",\n          \"Household\"\n        ],\n        \"semantic_type\": \"\",\n        \"description\": \"\"\n      }\n    },\n    {\n      \"column\": \"product description\",\n      \"properties\": {\n        \"dtype\": \"string\",\n        \"num_unique_values\": 27463,\n        \"samples\": [\n          \"amazon brand solimo kitchen cooking nylon tools sets of style set of this kitchen cooking nylon tools set from the house of solimo will help you whip up that delicious five course dinner from solid turners to perforated turners and whiskers to spaghetti strainers take your pick of sets tool each tool is made from high quality food grade nylon and is bpa free so they are safe to use and non stick surface friendly the sturdy handles offer stainless steel grips and the tools are resistant to heat up to degrees celsius so they will not get hot easily you can cook and serve hot food without any hassle \",\n          \"best deal golden shimmer stretch knit legging for girls women s it s a design for extra fabric strength durability and looks which are super combed and bio wash fabric for superior quality waist wear best deal leggings to stay relaxed and comfortable all day long we have designed these heavy duty leggings keeping in mind the physique and figure of indian women you will love it for sure once you try our high quality ultra soft cotton fabric you may find hard to wear other ordinary leggings the fabric of our leggings is high quality ultra soft cotton blend keeps you cool these leggings are extremely stretchable and offer a stylish relief from other regular lowers dry in shade do not bleach wash with similar colors use mild detergent for colors you can team these leggings with an equally stylish long top and a pair of high heels looks as good as it feels \",\n          \"luvlap soft flannel baby blanket beige cat cm x cm color beige cat designed for newborns and toddlers alike in white with high contrast colors and engaging patterns stimulate and delight all the senses machine wash cold tumble dry on low temperature do not use bleach made with shrink resistant fabric \"\n        ],\n        \"semantic_type\": \"\",\n        \"description\": \"\"\n      }\n    },\n    {\n      \"column\": \"category_index\",\n      \"properties\": {\n        \"dtype\": \"category\",\n        \"num_unique_values\": 4,\n        \"samples\": [\n          \"__label__Books\",\n          \"__label__Electronics\",\n          \"__label__Household\"\n        ],\n        \"semantic_type\": \"\",\n        \"description\": \"\"\n      }\n    }\n  ]\n}"
            }
          },
          "metadata": {},
          "execution_count": 198
        }
      ]
    },
    {
      "cell_type": "code",
      "source": [
        "#put category and product_title together\n",
        "#format I want: __label__ product\n",
        "category_prod = df_labeled['category_index'] + \" \" + df_labeled['product description']\n",
        "print(category_prod)"
      ],
      "metadata": {
        "colab": {
          "base_uri": "https://localhost:8080/"
        },
        "id": "oYxF54Cu2djO",
        "outputId": "d2f38fac-a8d8-4e00-9c57-03aef9c8b9b8"
      },
      "execution_count": 199,
      "outputs": [
        {
          "output_type": "stream",
          "name": "stdout",
          "text": [
            "0        __label__Household paper plane design framed w...\n",
            "1        __label__Household saf floral framed painting ...\n",
            "2        __label__Household saf uv textured modern art ...\n",
            "3        __label__Household saf flower print framed pai...\n",
            "4        __label__Household incredible gifts india wood...\n",
            "                               ...                        \n",
            "50402    __label__Electronics micromax bharat plus zero...\n",
            "50403    __label__Electronics microsoft lumia gb g blac...\n",
            "50407    __label__Electronics microsoft lumia black gb ...\n",
            "50408    __label__Electronics karbonn titanium wind w w...\n",
            "50410    __label__Electronics nokia lumia dual sim grey...\n",
            "Length: 27802, dtype: object\n"
          ]
        }
      ]
    },
    {
      "cell_type": "code",
      "source": [
        "from sklearn.model_selection import train_test_split\n",
        "#split into train and test\n",
        "train, test = train_test_split(category_prod, test_size=0.3, train_size=0.7, random_state=42)"
      ],
      "metadata": {
        "id": "q7UlzANs2m6R"
      },
      "execution_count": 200,
      "outputs": []
    },
    {
      "cell_type": "code",
      "source": [
        "train.to_csv(\"train.txt\",index = False)\n",
        "test.to_csv(\"test.txt\",index = False)"
      ],
      "metadata": {
        "id": "hfdFXwnv2qbL"
      },
      "execution_count": 201,
      "outputs": []
    },
    {
      "cell_type": "code",
      "source": [
        "#train model\n",
        "model = fasttext.train_supervised(input=\"train.txt\", epoch=15)"
      ],
      "metadata": {
        "id": "1QmSNrZx4C0t"
      },
      "execution_count": 203,
      "outputs": []
    },
    {
      "cell_type": "code",
      "source": [
        "#test using the model\n",
        "model.test(\"test.txt\") #(n, precision, recall)"
      ],
      "metadata": {
        "colab": {
          "base_uri": "https://localhost:8080/"
        },
        "id": "OvMGLXQI4HXb",
        "outputId": "bfa4e503-1914-4d3e-91cc-79659e018006"
      },
      "execution_count": 204,
      "outputs": [
        {
          "output_type": "execute_result",
          "data": {
            "text/plain": [
              "(8341, 0.9500059944850737, 0.9500059944850737)"
            ]
          },
          "metadata": {},
          "execution_count": 204
        }
      ]
    },
    {
      "cell_type": "code",
      "source": [
        "model.predict(\"This story is very interesting.\")"
      ],
      "metadata": {
        "colab": {
          "base_uri": "https://localhost:8080/"
        },
        "id": "zGyVWvh04NwS",
        "outputId": "84b90c97-342d-473a-f405-14d03af9c96f"
      },
      "execution_count": 208,
      "outputs": [
        {
          "output_type": "execute_result",
          "data": {
            "text/plain": [
              "(('__label__Books',), array([0.99998975]))"
            ]
          },
          "metadata": {},
          "execution_count": 208
        }
      ]
    },
    {
      "cell_type": "code",
      "source": [
        "model.predict(\"this dress has extra large size\")"
      ],
      "metadata": {
        "colab": {
          "base_uri": "https://localhost:8080/"
        },
        "id": "JGIu-GcEzwWx",
        "outputId": "2b52a607-80f0-447a-ff30-74c711f8c2bb"
      },
      "execution_count": 206,
      "outputs": [
        {
          "output_type": "execute_result",
          "data": {
            "text/plain": [
              "(('__label__Clothing&Accessories',), array([0.97394693]))"
            ]
          },
          "metadata": {},
          "execution_count": 206
        }
      ]
    },
    {
      "cell_type": "code",
      "source": [
        "model.predict(\"this shirt is very comfortable\")"
      ],
      "metadata": {
        "colab": {
          "base_uri": "https://localhost:8080/"
        },
        "id": "F4Bhxp1pEP-e",
        "outputId": "b1a5f545-535a-4c3e-c82b-cc740d8a747d"
      },
      "execution_count": 218,
      "outputs": [
        {
          "output_type": "execute_result",
          "data": {
            "text/plain": [
              "(('__label__Clothing&Accessories',), array([0.99951065]))"
            ]
          },
          "metadata": {},
          "execution_count": 218
        }
      ]
    }
  ]
}